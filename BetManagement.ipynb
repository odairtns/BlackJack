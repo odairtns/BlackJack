{
 "cells": [
  {
   "cell_type": "code",
   "execution_count": 56,
   "metadata": {},
   "outputs": [],
   "source": [
    "class BetManagement():\n",
    "    bet_amount = 0\n",
    "    balance = 0\n",
    "\n",
    "    def __init__ (self, balance):\n",
    "        self.balance = balance\n",
    "    \n",
    "    def bet(self,amount):\n",
    "        if(self.balance >= amount):\n",
    "            self.bet_amount = amount\n",
    "            print('Bet placed')\n",
    "        else:\n",
    "            print(f'Insuficient founts. Balance = {self.balance}')\n",
    "    \n",
    "    def win_bet(self):\n",
    "        self.balance += self.bet_amount\n",
    "        self.bet_amount = 0\n",
    "    \n",
    "    def lose_bet(self):\n",
    "        self.balance -= self.bet_amount\n",
    "        self.bet_amount = 0\n",
    "        if self.balance == 0:\n",
    "            print(\"No credits left\")\n",
    "        \n",
    "    def draw_bet(self):\n",
    "        self.balance = self.balance\n",
    "        self.bet_amount = 0\n",
    "        "
   ]
  }
 ],
 "metadata": {
  "kernelspec": {
   "display_name": "Python 3",
   "language": "python",
   "name": "python3"
  },
  "language_info": {
   "codemirror_mode": {
    "name": "ipython",
    "version": 3
   },
   "file_extension": ".py",
   "mimetype": "text/x-python",
   "name": "python",
   "nbconvert_exporter": "python",
   "pygments_lexer": "ipython3",
   "version": "3.7.6"
  }
 },
 "nbformat": 4,
 "nbformat_minor": 4
}
