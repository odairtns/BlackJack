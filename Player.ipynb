{
 "cells": [
  {
   "cell_type": "code",
   "execution_count": 120,
   "metadata": {},
   "outputs": [],
   "source": [
    "class Player():\n",
    "    value = {'1':1,'2':2,'3':3,'4':4,'5':5,'6':6,'7':7,'8':8,'9':9,'J':10,'Q':10,'K':10}\n",
    "    player_hand = []\n",
    "    ace = []\n",
    "    \n",
    "    def __init__ (self):\n",
    "        pass\n",
    "    \n",
    "    def __str__ (self):\n",
    "        return str(self.player_hand).strip(\"[]\")\n",
    "    \n",
    "    def add_card(self,card):\n",
    "        if(card[0]==\"A\"):\n",
    "            while True:\n",
    "                ace = input(\"Ace = 1 or 11?\")\n",
    "                if(ace == '1'):\n",
    "                    self.ace.append(1)\n",
    "                    break\n",
    "                elif(ace =='11'):\n",
    "                    self.ace.append(11)\n",
    "                    break    \n",
    "        self.player_hand.append(card)\n",
    "        \n",
    "    def clear_hand(self):\n",
    "        self.player_hand.clear()\n",
    "        self.ace.clear()\n",
    "    \n",
    "    def hand_total(self):\n",
    "        total_A = 0\n",
    "        total_B = 0\n",
    "        first_ace = False\n",
    "        for card in self.player_hand:\n",
    "            if(card[0]==\"A\"):\n",
    "                if(not first_ace):\n",
    "                    total_A += 1\n",
    "                    total_B += 11\n",
    "                    first_ace = True\n",
    "                else:\n",
    "                    total_A += 1\n",
    "                    total_B += 1\n",
    "            else:       \n",
    "                total_A += self.value[card[0]]\n",
    "                total_B += self.value[card[0]]\n",
    "        return (total_A,total_B)"
   ]
  }
 ],
 "metadata": {
  "kernelspec": {
   "display_name": "Python 3",
   "language": "python",
   "name": "python3"
  },
  "language_info": {
   "codemirror_mode": {
    "name": "ipython",
    "version": 3
   },
   "file_extension": ".py",
   "mimetype": "text/x-python",
   "name": "python",
   "nbconvert_exporter": "python",
   "pygments_lexer": "ipython3",
   "version": "3.7.6"
  }
 },
 "nbformat": 4,
 "nbformat_minor": 4
}
