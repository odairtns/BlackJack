{
 "cells": [
  {
   "cell_type": "code",
   "execution_count": 31,
   "metadata": {},
   "outputs": [],
   "source": [
    "import random \n",
    "class Deck():\n",
    "    card = ()\n",
    "    ranks = ['A','1','2','3','4','5','6','7','8','9','J','Q','K']\n",
    "    suits = {'spades':'♠','hearts':'♥','diamonds':'♦','clubs':'♣'}\n",
    "    \n",
    "    def __init__(self):\n",
    "        self.deck = []\n",
    "    def __str__ (self):    \n",
    "        return str(self.deck).strip('[]')         \n",
    "    def __len__ (self):\n",
    "        return len(self.deck)     \n",
    "    \n",
    "    def new_deck(self):\n",
    "        for suit in self.suits:\n",
    "            for rank in self.ranks:\n",
    "                self.deck.append((rank,suit))\n",
    "    \n",
    "    def shuffle_deck(self):\n",
    "        random.shuffle(self.deck)\n",
    "    \n",
    "    def pick_top_card(self):\n",
    "        return self.deck.pop(0)\n",
    "    \n",
    "    def pick_botton_card(self):\n",
    "        return self.deck.pop(-1)    \n",
    "\n",
    "    def pick_card(self,position):\n",
    "        if(type(position) == int):\n",
    "            if (position - 1 <= len(self.deck) and position > 0):\n",
    "                return self.deck.pop(position-1)\n",
    "            else:\n",
    "                print(f\"Card not available.\\nDeck has {len(self.deck)} cards.\")\n",
    "        else:\n",
    "            print(f\"Choose a valid position\")    \n",
    "\n",
    "    def print_card(self,card):                   \n",
    "        print('┌───────┐')\n",
    "        print(f'| {card[0]:<2}    |')\n",
    "        print('|       |')\n",
    "        print(f'|   {self.suits[card[1]]}   |')\n",
    "        print('|       |')\n",
    "        print(f'|    {card[0]:>2} |')\n",
    "        print('└───────┘')        \n",
    "        \n",
    "   # def print_aligned_card(self,cards):                   \n",
    "        #print(f'┌───────┐\\n| {card[0]:<2}    |\\n|       |\\n|   {self.suits[card[1]]}   |\\n|       |\\n|    {card[0]:>2} |\\n└───────┘')\n",
    "        #for card in cards:            \n",
    "      #  print(f'┌───────┐\\n| {card[0]:<2}    |\\n|       |\\n|   {self.suits[card[1]]}   |\\n|       |\\n|    {card[0]:>2} |\\n└───────┘')\n",
    "        #    b.join(a,' ')            \n",
    "       # print(b)"
   ]
  },
  {
   "cell_type": "code",
   "execution_count": 32,
   "metadata": {},
   "outputs": [],
   "source": [
    "deck = Deck()\n",
    "deck.new_deck()\n",
    "deck.shuffle_deck()\n",
    "card = deck.pick_top_card()"
   ]
  },
  {
   "cell_type": "code",
   "execution_count": 33,
   "metadata": {},
   "outputs": [
    {
     "name": "stdout",
     "output_type": "stream",
     "text": [
      "┌───────┐\n",
      "| J     |\n",
      "|       |\n",
      "|   ♥   |\n",
      "|       |\n",
      "|     J |\n",
      "└───────┘\n"
     ]
    }
   ],
   "source": [
    "'''for i in range(5):\n",
    "    card = deck.pick_top_card()    '''\n",
    "deck.print_aligned_card(card)"
   ]
  },
  {
   "cell_type": "code",
   "execution_count": null,
   "metadata": {},
   "outputs": [],
   "source": []
  }
 ],
 "metadata": {
  "kernelspec": {
   "display_name": "Python 3",
   "language": "python",
   "name": "python3"
  },
  "language_info": {
   "codemirror_mode": {
    "name": "ipython",
    "version": 3
   },
   "file_extension": ".py",
   "mimetype": "text/x-python",
   "name": "python",
   "nbconvert_exporter": "python",
   "pygments_lexer": "ipython3",
   "version": "3.7.6"
  }
 },
 "nbformat": 4,
 "nbformat_minor": 4
}
